{
  "cells": [
    {
      "cell_type": "markdown",
      "metadata": {
        "id": "view-in-github",
        "colab_type": "text"
      },
      "source": [
        "<a href=\"https://colab.research.google.com/github/JeonCollin/mask-detection/blob/main/mask_detection_real_final.ipynb\" target=\"_parent\"><img src=\"https://colab.research.google.com/assets/colab-badge.svg\" alt=\"Open In Colab\"/></a>"
      ]
    },
    {
      "cell_type": "markdown",
      "metadata": {
        "id": "pVuAtM1g9b9W"
      },
      "source": [
        "\n",
        "# **0. Mask augmentation**\n",
        "\n",
        "*   mount google drive\n",
        "*   MaskTheFace github (https://github.com/aqeelanwar/MaskTheFace.git)\n",
        "*   include mask augmented face image samples in report\n",
        "\n"
      ]
    },
    {
      "cell_type": "code",
      "execution_count": null,
      "metadata": {
        "id": "BQ52r70MtzOq"
      },
      "outputs": [],
      "source": [
        "from google.colab import drive\n",
        "drive.mount('/content/drive')"
      ]
    },
    {
      "cell_type": "code",
      "execution_count": null,
      "metadata": {
        "id": "0kScZ8yp9Z7S"
      },
      "outputs": [],
      "source": [
        "cd '/content/drive/MyDrive/detect_mask'"
      ]
    },
    {
      "cell_type": "code",
      "execution_count": null,
      "metadata": {
        "collapsed": true,
        "id": "PVqAUzuieo6_"
      },
      "outputs": [],
      "source": [
        "#!unzip data.zip # only at first"
      ]
    },
    {
      "cell_type": "code",
      "execution_count": null,
      "metadata": {
        "id": "jR4AAKiK9Z9u"
      },
      "outputs": [],
      "source": [
        "! git clone https://github.com/aqeelanwar/MaskTheFace.git"
      ]
    },
    {
      "cell_type": "code",
      "execution_count": null,
      "metadata": {
        "collapsed": true,
        "id": "uI6zApjYhY5V"
      },
      "outputs": [],
      "source": [
        "! pip install scikit-learn\n",
        "! pip install wandb\n",
        "! pip install dlib\n",
        "! pip install face-recognition\n",
        "! pip install face-recognition-models\n",
        "! pip install dotmap"
      ]
    },
    {
      "cell_type": "code",
      "execution_count": null,
      "metadata": {
        "id": "0hcXmDUC9aAS"
      },
      "outputs": [],
      "source": [
        "cd 'MaskTheFace'"
      ]
    },
    {
      "cell_type": "code",
      "execution_count": null,
      "metadata": {
        "id": "T8aQZxpH_oaV"
      },
      "outputs": [],
      "source": [
        "# print current directory\n",
        "import os\n",
        "os.getcwd()"
      ]
    },
    {
      "cell_type": "code",
      "execution_count": null,
      "metadata": {
        "collapsed": true,
        "id": "sm2gWJEO93Rz"
      },
      "outputs": [],
      "source": [
        "#! python mask_the_face.py --path \"/content/drive/MyDrive/detect_mask/data/train/not_wearing_mask\" --mask_type \"random\" #taking mask to raw train image, only at first"
      ]
    },
    {
      "cell_type": "code",
      "execution_count": null,
      "metadata": {
        "collapsed": true,
        "id": "dwP260HK9aFO"
      },
      "outputs": [],
      "source": [
        "#! python mask_the_face.py --path \"/content/drive/MyDrive/detect_mask/data/val/not_wearing_mask\" --mask_type \"random\" #taking mask to raw val image, only at first"
      ]
    },
    {
      "cell_type": "markdown",
      "metadata": {
        "id": "3DINqNsAEOXk"
      },
      "source": []
    },
    {
      "cell_type": "markdown",
      "metadata": {
        "id": "tpHtE4Lu96GR"
      },
      "source": [
        "# **1. Prepare Data for Training**\n",
        "\n",
        "*   data_loader using *torchvision.datasets.ImageFolder* for Custom dataset\n",
        "*   **image augmentation** in *transforms*\n",
        "*   include augmented face image samples in report\n",
        "\n"
      ]
    },
    {
      "cell_type": "code",
      "execution_count": null,
      "metadata": {
        "id": "EHKJq22C9_Pk"
      },
      "outputs": [],
      "source": [
        "# import packages\n",
        "import torch\n",
        "import torchvision\n",
        "import torchvision.transforms as transforms\n",
        "from torch.utils.data import DataLoader\n"
      ]
    },
    {
      "cell_type": "code",
      "execution_count": null,
      "metadata": {
        "id": "dO2qBC6tvKU9"
      },
      "outputs": [],
      "source": [
        "# Define transformations for data augmentation\n",
        "data_transform = {\n",
        "    \"train\" : transforms.Compose([\n",
        "    transforms.RandomHorizontalFlip(),\n",
        "    transforms.RandomResizedCrop(112, scale=(0.8, 1.0)),\n",
        "    transforms.ColorJitter(brightness=(0.2, 1.5), contrast=0.2, saturation=0.2, hue=0.2),\n",
        "    transforms.RandomRotation(degrees=15),\n",
        "    transforms.ToTensor(),\n",
        "    ]),\n",
        "    \"val\" : transforms.Compose([\n",
        "    transforms.Resize(128),\n",
        "    transforms.CenterCrop(112),\n",
        "    transforms.ToTensor(),\n",
        "    ])}\n",
        "\n"
      ]
    },
    {
      "cell_type": "code",
      "execution_count": null,
      "metadata": {
        "id": "2CnkW8ObvLKU"
      },
      "outputs": [],
      "source": [
        "train_path = \"/content/drive/MyDrive/detect_mask/data/train\"\n",
        "val_path = \"/content/drive/MyDrive/detect_mask/data/val\"\n",
        "\n",
        "# write ImageFolder code below // make label to 0 / 1 == nomask/mask\n",
        "train_data = torchvision.datasets.ImageFolder(root=train_path, transform=data_transform[\"train\"])\n",
        "val_data = torchvision.datasets.ImageFolder(root=val_path, transform=data_transform[\"val\"])\n",
        "\n",
        "# check the label\n",
        "print(train_data.class_to_idx)\n",
        "print(val_data.class_to_idx)\n"
      ]
    },
    {
      "cell_type": "markdown",
      "metadata": {
        "id": "G3_M5PPK-rpS"
      },
      "source": [
        "# **2. Prepare Model**\n",
        "\n",
        "*   Pytorch ResNet - *ref*. https://github.com/pytorch/vision/blob/main/torchvision/models/resnet.py\n",
        "*   use **ResNet50** from torchvision.model_zoo\n",
        "*   explore more models in https://pytorch.org/vision/stable/models.html\n",
        "*   **change the dimension of the classifier**"
      ]
    },
    {
      "cell_type": "code",
      "execution_count": null,
      "metadata": {
        "colab": {
          "base_uri": "https://localhost:8080/"
        },
        "id": "nnwmCewA9_XZ",
        "outputId": "652f761a-ab03-4606-d1c7-40e4e4c04946"
      },
      "outputs": [
        {
          "output_type": "stream",
          "name": "stdout",
          "text": [
            "cuda:0\n"
          ]
        }
      ],
      "source": [
        "# assign device cpu or gpu\n",
        "device = torch.device(\"cuda:0\" if torch.cuda.is_available() else \"cpu\")\n",
        "print(device)"
      ]
    },
    {
      "cell_type": "code",
      "execution_count": null,
      "metadata": {
        "id": "aWtoPoMw9_aB"
      },
      "outputs": [],
      "source": [
        "# import packages for importing models\n",
        "import torchvision.models as models\n",
        "import torch.nn as nn"
      ]
    },
    {
      "cell_type": "code",
      "execution_count": null,
      "metadata": {
        "colab": {
          "base_uri": "https://localhost:8080/"
        },
        "id": "4e-Akn7TzCJh",
        "outputId": "d05f8056-a56f-47b3-8e32-d2a337a278e0"
      },
      "outputs": [
        {
          "output_type": "stream",
          "name": "stderr",
          "text": [
            "Downloading: \"https://download.pytorch.org/models/resnet50-11ad3fa6.pth\" to /root/.cache/torch/hub/checkpoints/resnet50-11ad3fa6.pth\n",
            "100%|██████████| 97.8M/97.8M [00:00<00:00, 129MB/s]\n"
          ]
        }
      ],
      "source": [
        "model = models.resnet50(weights=models.ResNet50_Weights.DEFAULT)\n",
        "num_ftrs = model.fc.in_features\n",
        "model.fc = nn.Sequential(\n",
        "    nn.Linear(num_ftrs, 512),       # 중간에 512차원의 레이어 추가\n",
        "    nn.BatchNorm1d(512),\n",
        "    nn.ReLU(inplace=True),\n",
        "    nn.Dropout(p=0.5),\n",
        "    nn.Linear(512, 1),\n",
        "    nn.Sigmoid()\n",
        ")\n",
        "model = model.to(device)"
      ]
    },
    {
      "cell_type": "markdown",
      "metadata": {
        "id": "YVE3zX9_-_01"
      },
      "source": [
        "# **3. Training**\n",
        "\n",
        "\n",
        "*   write **training code** including belows:\n",
        "   - hyper parameters such as batch size, learning rate, epoch\n",
        "   - criterion(loss function such as BCELoss), optimizer(eg. Adam, SGD, etc.)  and scheduler\n",
        "   - save model weight\n",
        "\n",
        "*   **print training/validation loss and accuracy** per epoch or iteration\n",
        "*   inlcude visualizer, **tensorboard**, to show training/validation accuracy and loss\n"
      ]
    },
    {
      "cell_type": "code",
      "execution_count": null,
      "metadata": {
        "collapsed": true,
        "id": "yZATdqeUvrxX"
      },
      "outputs": [],
      "source": [
        "import torch\n",
        "import torch.nn as nn\n",
        "import torch.optim as optim\n",
        "from torch.utils.data import DataLoader\n",
        "import torchvision.transforms as transforms\n",
        "import torchvision.datasets as datasets\n",
        "import wandb\n",
        "from sklearn import metrics\n",
        "\n",
        "wandb.login()\n",
        "# use wandb.init\n",
        "wandb.init(project=\"mask-detection\")\n"
      ]
    },
    {
      "cell_type": "code",
      "execution_count": null,
      "metadata": {
        "id": "VyVhODsY9_j1"
      },
      "outputs": [],
      "source": [
        "import os\n",
        "import datetime\n",
        "\n",
        "save_path = \"/content/drive/MyDrive/detect_mask/result\" +  datetime.datetime.now().strftime(\"%Y%m%d-%H\") + \"/\"\n",
        "os.makedirs(save_path, exist_ok=True)"
      ]
    },
    {
      "cell_type": "code",
      "execution_count": null,
      "metadata": {
        "id": "WUYtuG1XoML5"
      },
      "outputs": [],
      "source": [
        "import torch\n",
        "\n",
        "# Disable cuDNN\n",
        "torch.backends.cudnn.enabled = False\n",
        "\n",
        "# Enable deterministic mode for cuDNN\n",
        "torch.backends.cudnn.deterministic = True\n",
        "torch.backends.cudnn.benchmark = False"
      ]
    },
    {
      "cell_type": "code",
      "execution_count": null,
      "metadata": {
        "id": "ZjKyf14Cv3cN"
      },
      "outputs": [],
      "source": [
        "def train_model(model, criterion, optimizer, scheduler, num_epochs=50):\n",
        "    for epoch in range(num_epochs):\n",
        "        print(f'Epoch {epoch}/{num_epochs - 1}')\n",
        "        print('-' * 10)\n",
        "\n",
        "        for phase in ['train', 'val']:\n",
        "            if phase == 'train':\n",
        "                model.train()\n",
        "            else:\n",
        "                model.eval()\n",
        "\n",
        "            running_loss = 0.0\n",
        "            running_corrects = 0\n",
        "            all_labels = []\n",
        "            all_preds = []\n",
        "\n",
        "            for inputs, labels in (train_loader if phase == 'train' else val_loader):\n",
        "                inputs = inputs.to(device)\n",
        "                labels = labels.to(device).float()\n",
        "\n",
        "\n",
        "\n",
        "                with torch.set_grad_enabled(phase == 'train'):\n",
        "                    outputs = model(inputs).squeeze()\n",
        "                    preds = torch.sigmoid(outputs)>0.5\n",
        "                    loss = criterion(outputs, labels)\n",
        "                    optimizer.zero_grad()\n",
        "\n",
        "                    if phase == 'train':\n",
        "                        loss.backward()\n",
        "                        optimizer.step()\n",
        "\n",
        "\n",
        "                running_loss += loss.item() * inputs.size(0)\n",
        "                running_corrects += torch.sum(preds == labels.data)\n",
        "                all_labels.extend(labels.cpu().numpy())\n",
        "                all_preds.extend(torch.sigmoid(outputs).detach().cpu().numpy())\n",
        "\n",
        "            if phase == 'train':\n",
        "              scheduler.step()\n",
        "\n",
        "            epoch_loss = running_loss / len(train_loader.dataset if phase == 'train' else val_loader.dataset)\n",
        "            epoch_acc = running_corrects.double() / len(train_loader.dataset if phase == 'train' else val_loader.dataset)\n",
        "\n",
        "            print(f'{phase} Loss: {epoch_loss:.4f} Acc: {epoch_acc:.4f}')\n",
        "\n",
        "            # ROC curve, AUC\n",
        "            if phase == 'val':\n",
        "                fpr, tpr, _ = metrics.roc_curve(all_labels, all_preds, pos_label=1)\n",
        "                auc = metrics.auc(fpr, tpr)\n",
        "                wandb.log({\"val_loss\": epoch_loss, \"val_accuracy\": epoch_acc, \"val_auc\": auc})\n",
        "                print(f'Val AUC: {auc:.4f}')\n",
        "            else:\n",
        "                wandb.log({\"train_loss\": epoch_loss, \"train_accuracy\": epoch_acc})\n",
        "\n",
        "    return model"
      ]
    },
    {
      "cell_type": "code",
      "execution_count": null,
      "metadata": {
        "id": "KYxZK3GxwHmn"
      },
      "outputs": [],
      "source": [
        "# training and validation code can be writed in one function. It's your taste!"
      ]
    },
    {
      "cell_type": "code",
      "execution_count": null,
      "metadata": {
        "id": "rza1yEU7wK9C"
      },
      "outputs": [],
      "source": [
        "# hyper parameters\n",
        "num_epochs = 50\n",
        "learning_rate = 0.01\n",
        "batch_size = 64"
      ]
    },
    {
      "cell_type": "code",
      "execution_count": null,
      "metadata": {
        "id": "NDiFIBQawNW5"
      },
      "outputs": [],
      "source": [
        "# optimizer, loss, scheduler\n",
        "criterion = nn.BCEWithLogitsLoss().to(device)\n",
        "optimizer = optim.Adam(model.parameters(), lr=learning_rate, weight_decay=0.0001)\n",
        "scheduler = optim.lr_scheduler.StepLR(optimizer, step_size=7, gamma=0.1)\n"
      ]
    },
    {
      "cell_type": "code",
      "execution_count": null,
      "metadata": {
        "id": "pVkr9ayswP17"
      },
      "outputs": [],
      "source": [
        "# data_loader\n",
        "train_loader = DataLoader(train_data, batch_size, shuffle=True, num_workers=2)\n",
        "val_loader = DataLoader(val_data, batch_size, shuffle=True, num_workers=2)\n"
      ]
    },
    {
      "cell_type": "code",
      "execution_count": null,
      "metadata": {
        "id": "9lO9tfaqwSNc"
      },
      "outputs": [],
      "source": [
        "# ROC curve, AUC (Hint: use sklearn or wandb function, using sklearn to extract fpr, tpr will be bonus score)\n"
      ]
    },
    {
      "cell_type": "code",
      "execution_count": null,
      "metadata": {
        "id": "ZueOlVqewVFF"
      },
      "outputs": [],
      "source": [
        "# perform training and validation\n",
        "model = train_model(model, criterion, optimizer, scheduler,num_epochs=num_epochs)\n",
        "\n",
        "\n",
        "#save model\n",
        "torch.save(model.state_dict(), os.path.join(save_path, 'model.pth'))"
      ]
    }
  ],
  "metadata": {
    "accelerator": "GPU",
    "colab": {
      "gpuType": "T4",
      "provenance": [],
      "include_colab_link": true
    },
    "kernelspec": {
      "display_name": "Python 3",
      "name": "python3"
    },
    "language_info": {
      "name": "python"
    }
  },
  "nbformat": 4,
  "nbformat_minor": 0
}