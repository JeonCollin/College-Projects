{
  "nbformat": 4,
  "nbformat_minor": 0,
  "metadata": {
    "colab": {
      "provenance": [],
      "gpuType": "L4",
      "machine_shape": "hm",
      "authorship_tag": "ABX9TyMc0z6L0DgxVekUurHg36ah",
      "include_colab_link": true
    },
    "kernelspec": {
      "name": "python3",
      "display_name": "Python 3"
    },
    "language_info": {
      "name": "python"
    },
    "accelerator": "GPU"
  },
  "cells": [
    {
      "cell_type": "markdown",
      "metadata": {
        "id": "view-in-github",
        "colab_type": "text"
      },
      "source": [
        "<a href=\"https://colab.research.google.com/github/JeonCollin/mask-detection/blob/main/mask_evaluation%EC%9D%98_%EC%A7%84%EC%A7%9C_%EC%82%AC%EB%B3%B8.ipynb\" target=\"_parent\"><img src=\"https://colab.research.google.com/assets/colab-badge.svg\" alt=\"Open In Colab\"/></a>"
      ]
    },
    {
      "cell_type": "markdown",
      "metadata": {
        "id": "bNyvOwSj0hV4"
      },
      "source": [
        "#**Evaluation**\n",
        "\n",
        "\n",
        "*   load custom images and classify wearing a mask or not\n",
        "*   show the test images and prediction or/and scores"
      ]
    },
    {
      "cell_type": "code",
      "execution_count": null,
      "metadata": {
        "id": "FaeaR2TbCKwA"
      },
      "outputs": [],
      "source": [
        "from google.colab import drive\n",
        "drive.mount('/content/drive')"
      ]
    },
    {
      "cell_type": "code",
      "execution_count": null,
      "metadata": {
        "id": "dOSsXQbauMto"
      },
      "outputs": [],
      "source": [
        "import torch\n",
        "import torch.nn as nn\n",
        "import torchvision\n",
        "import torchvision.models as models\n",
        "from torchvision import transforms, datasets\n",
        "from torchvision.transforms.functional import to_pil_image\n",
        "from torch.utils.data import DataLoader\n",
        "from torchvision.datasets import ImageFolder\n",
        "from google.colab.patches import cv2_imshow\n",
        "import os\n",
        "import cv2\n",
        "import numpy as np\n",
        "import face_recognition\n",
        "\n",
        "import matplotlib.pyplot as plt\n",
        "%matplotlib inline\n",
        "device = torch.device('cuda' if torch.cuda.is_available() else 'cpu')"
      ]
    },
    {
      "cell_type": "code",
      "execution_count": null,
      "metadata": {
        "id": "Mwdg5uyxCKyO"
      },
      "outputs": [],
      "source": [
        "from torchvision.transforms.transforms import CenterCrop\n",
        "from torchvision.transforms.transforms import Resize\n",
        "\n",
        "transforms = transforms.Compose([\n",
        "transforms.Resize(112),\n",
        "transforms.ToTensor(),\n",
        "])"
      ]
    },
    {
      "cell_type": "code",
      "execution_count": null,
      "metadata": {
        "id": "LSwqfA_9wej8"
      },
      "outputs": [],
      "source": [
        "# 1. prepare data\n",
        "test_path = \"/content/drive/MyDrive/detect_mask/test\"\n",
        "test_data = ImageFolder(root=test_path, transform=transforms)\n",
        "test_loader = DataLoader(test_data, batch_size=1, shuffle=False)\n",
        "\n",
        "#image = face_recognition.load_image_file(\"your_file.jpg\")\n",
        "#face_locations = face_recognition.face_locations(image)\n"
      ]
    },
    {
      "cell_type": "code",
      "source": [
        "# 2. load model\n",
        "model = models.resnet50(pretrained=False)\n",
        "num_ftrs = model.fc.in_features\n",
        "model.fc = nn.Sequential(\n",
        "    nn.Dropout(p=0.5),\n",
        "    nn.BatchNorm1d(num_ftrs),\n",
        "    nn.Linear(num_ftrs, 1)\n",
        ")\n",
        "model.load_state_dict(torch.load(\"/content/drive/MyDrive/detect_mask/result20240604-01/model.pth\"))\n",
        "model = model.to(device)\n",
        "model.eval()"
      ],
      "metadata": {
        "id": "iszIg_s1wt-T",
        "collapsed": true
      },
      "execution_count": null,
      "outputs": []
    },
    {
      "cell_type": "code",
      "source": [
        "# 3. perform evaluation\n",
        "def evaluate(model, dataloader):\n",
        "    all_labels = []\n",
        "    all_preds = []\n",
        "\n",
        "    for inputs, labels in dataloader:\n",
        "        inputs = inputs.to(device)\n",
        "        labels = labels.to(device).float()\n",
        "        with torch.no_grad():\n",
        "            outputs = model(inputs)\n",
        "            preds = torch.sigmoid(outputs) > 0.5\n",
        "            all_labels.extend(labels.cpu().numpy())\n",
        "            all_preds.extend(preds.cpu().numpy())\n",
        "\n",
        "            # Display the image with prediction\n",
        "            img = inputs.cpu().squeeze(0)\n",
        "            img = to_pil_image(img)\n",
        "            plt.imshow(img)\n",
        "            plt.title(f'Predicted: {\"Mask\" if preds.item() else \"No Mask\"}')\n",
        "            plt.show()\n",
        "\n",
        "    return all_labels, all_preds\n",
        "\n",
        "all_labels, all_preds = evaluate(model, test_loader)"
      ],
      "metadata": {
        "id": "urabRZqcw3u0"
      },
      "execution_count": null,
      "outputs": []
    }
  ]
}